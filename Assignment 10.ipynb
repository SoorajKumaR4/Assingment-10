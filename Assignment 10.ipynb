{
 "cells": [
  {
   "cell_type": "markdown",
   "id": "3c32237a",
   "metadata": {},
   "source": [
    "1. How do you distinguish between shutil.copy() and shutil.copytree()?\n",
    "\n",
    "A. While shutil. copy() will copy a single file, shutil.copytree() will copy an entire folder and every folder and file contained in it."
   ]
  },
  {
   "cell_type": "markdown",
   "id": "1da15135",
   "metadata": {},
   "source": [
    "2. What function is used to rename files??\n",
    "\n",
    "A. rename() method in Python is used to rename a file or directory."
   ]
  },
  {
   "cell_type": "markdown",
   "id": "2d00ffed",
   "metadata": {},
   "source": [
    "3. What is the difference between the delete functions in the send2trash and shutil modules?\n",
    "\n",
    "A. The send2trash functions will move a file or folder to the recycle bin, while shutil functions will permanently delete files and folders."
   ]
  },
  {
   "cell_type": "markdown",
   "id": "ce088ac1",
   "metadata": {},
   "source": [
    "4. ZipFile objects have a close() method just like File objects’ close() method. What ZipFile method is equivalent to File objects’ open() method?\n",
    "\n",
    "A.  The zipfile.ZipFile() function is equivalent to the open() function."
   ]
  },
  {
   "cell_type": "markdown",
   "id": "b99137d2",
   "metadata": {},
   "source": [
    "5. Create a programme that searches a folder tree for files with a certain file extension (such as .pdf\n",
    "or .jpg). Copy these files from whatever location they are in to a new folder.\n",
    "\n",
    "A.\n",
    "import glob\n",
    "\n",
    "import os\n",
    "\n",
    "import shutil\n",
    "\n",
    "source_folder=r\"C:\\Users\\R. SOORAJ KUMAR\"\n",
    "\n",
    "target_folder=r\"I:\\Moved file\"\n",
    "\n",
    "pattern=\"\\*.pdf\"\n",
    "\n",
    "files = glob.glob(source_folder + pattern)\n",
    "\n",
    "\n",
    "for file in files:\n",
    "    \n",
    "    file_name = os.path.basename(file)\n",
    "    \n",
    "    shutil.move(file, target_folder + file_name)\n",
    "    \n",
    "    print('Moved:', file)"
   ]
  },
  {
   "cell_type": "markdown",
   "id": "fbfec415",
   "metadata": {},
   "source": []
  }
 ],
 "metadata": {
  "kernelspec": {
   "display_name": "Python 3 (ipykernel)",
   "language": "python",
   "name": "python3"
  },
  "language_info": {
   "codemirror_mode": {
    "name": "ipython",
    "version": 3
   },
   "file_extension": ".py",
   "mimetype": "text/x-python",
   "name": "python",
   "nbconvert_exporter": "python",
   "pygments_lexer": "ipython3",
   "version": "3.9.7"
  }
 },
 "nbformat": 4,
 "nbformat_minor": 5
}
